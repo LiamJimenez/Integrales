{
 "cells": [
  {
   "cell_type": "code",
   "execution_count": 2,
   "metadata": {},
   "outputs": [
    {
     "data": {
      "text/latex": [
       "$\\displaystyle \\frac{x^{4}}{2} - 4 x^{2} + 5 x$"
      ],
      "text/plain": [
       " 4             \n",
       "x       2      \n",
       "── - 4⋅x  + 5⋅x\n",
       "2              "
      ]
     },
     "execution_count": 2,
     "metadata": {},
     "output_type": "execute_result"
    }
   ],
   "source": [
    "from sympy import integrate, init_printing\n",
    "from sympy.abc import x \n",
    "\n",
    "\n",
    "init_printing(use_latex=\"mathjax\")\n",
    "\n",
    "f=input('Ingrese la funcion: ')\n",
    "integrate(f) "
   ]
  },
  {
   "cell_type": "code",
   "execution_count": null,
   "metadata": {},
   "outputs": [],
   "source": [
    "from sympy import integrate, init_printing\n",
    "from sympy.abc import x \n",
    "\n",
    "\n",
    "init_printing(use_latex=\"mathjax\")\n",
    "\n",
    "f=input('Ingrese la funcion: ')\n",
    "integrate(f)"
   ]
  }
 ],
 "metadata": {
  "kernelspec": {
   "display_name": "Python 3",
   "language": "python",
   "name": "python3"
  },
  "language_info": {
   "codemirror_mode": {
    "name": "ipython",
    "version": 3
   },
   "file_extension": ".py",
   "mimetype": "text/x-python",
   "name": "python",
   "nbconvert_exporter": "python",
   "pygments_lexer": "ipython3",
   "version": "3.10.4"
  },
  "orig_nbformat": 4
 },
 "nbformat": 4,
 "nbformat_minor": 2
}
